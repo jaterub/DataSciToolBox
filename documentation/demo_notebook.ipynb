{
 "cells": [
  {
   "attachments": {},
   "cell_type": "markdown",
   "metadata": {},
   "source": [
    "## Indice\n",
    "[1. Cargar Librerias](#1.-Cargar-Librerias)\n",
    "\n",
    "[2. Leer Datos](#2.-Leer-Datos)\n",
    "\n",
    "[3. Preprocessing](#3.-Preprocessing)\n",
    "\n",
    "[4. Modeling](#4.-Modeling)\n",
    "\n",
    "[5. Visualization](#5.-Visualitacion)\n",
    "\n"
   ]
  },
  {
   "attachments": {},
   "cell_type": "markdown",
   "metadata": {},
   "source": [
    "Notebook con algunas de las funciones creadas en preprocessing, modeling y visualization"
   ]
  },
  {
   "attachments": {},
   "cell_type": "markdown",
   "metadata": {},
   "source": [
    "### 1. Carga Librerias"
   ]
  },
  {
   "cell_type": "code",
   "execution_count": 47,
   "metadata": {},
   "outputs": [],
   "source": [
    "import numpy as np\n",
    "import pandas as pd\n",
    "\n",
    "from sklearn.cluster import KMeans\n",
    "from sklearn.metrics import silhouette_score\n",
    "from sklearn.metrics import mean_absolute_error, mean_squared_error, r2_score, accuracy_score, precision_score, recall_score, f1_score, roc_auc_score\n",
    "from sklearn.model_selection import train_test_split\n",
    "\n",
    "import matplotlib.pyplot as plt\n",
    "import seaborn as sns\n",
    "\n",
    "\n",
    "from typing import Any, List, Union\n",
    "\n",
    "from sklearn.tree import DecisionTreeRegressor\n",
    "from sklearn.neighbors import KNeighborsRegressor\n",
    "from sklearn.preprocessing import StandardScaler\n",
    "from sklearn.linear_model import LinearRegression\n",
    "from sklearn.ensemble import RandomForestRegressor\n",
    "from sklearn.ensemble import RandomForestClassifier\n",
    "\n",
    "from sklearn.svm import SVR\n",
    "\n",
    "import plotly.graph_objects as go\n",
    "\n",
    "import os\n",
    "\n",
    "import re\n",
    "\n",
    "import sys\n",
    "import rarfile\n",
    "import zipfile\n",
    "import yfinance as yf\n",
    "\n",
    "from dateutil.relativedelta import relativedelta"
   ]
  },
  {
   "cell_type": "code",
   "execution_count": 27,
   "metadata": {},
   "outputs": [],
   "source": [
    "# pip install yfinance\n",
    "# pip install rarfile"
   ]
  },
  {
   "attachments": {},
   "cell_type": "markdown",
   "metadata": {},
   "source": [
    "### 2. Leer Datos"
   ]
  },
  {
   "cell_type": "code",
   "execution_count": 49,
   "metadata": {},
   "outputs": [],
   "source": [
    "url = \"https://raw.githubusercontent.com/jbrownlee/Datasets/master/pima-indians-diabetes.data.csv\"\n",
    "df = pd.read_csv(url, names=['preg', 'plas', 'pres', 'skin', 'test', 'mass', 'pedi', 'age', 'class'])"
   ]
  },
  {
   "cell_type": "code",
   "execution_count": 42,
   "metadata": {},
   "outputs": [],
   "source": [
    "X = df[['preg','plas','mass','age']]\n",
    "y = df['class']"
   ]
  },
  {
   "cell_type": "code",
   "execution_count": 50,
   "metadata": {},
   "outputs": [],
   "source": [
    "X_train, X_test, y_train, y_test = train_test_split(X, y, test_size=0.2, random_state=10)"
   ]
  },
  {
   "attachments": {},
   "cell_type": "markdown",
   "metadata": {},
   "source": [
    "Se hace un modelo para utilizar en las funciones como ejemplo"
   ]
  },
  {
   "cell_type": "code",
   "execution_count": 51,
   "metadata": {},
   "outputs": [],
   "source": [
    "from sklearn.ensemble import RandomForestClassifier\n",
    "model = RandomForestClassifier(n_estimators=100, max_depth = 4, max_features=3, random_state=10)\n",
    "\n",
    "model.fit(X_train,y_train) \n",
    "predictions = model.predict(X_test)"
   ]
  },
  {
   "attachments": {},
   "cell_type": "markdown",
   "metadata": {},
   "source": [
    "### 3. Preprocessing"
   ]
  },
  {
   "cell_type": "code",
   "execution_count": 36,
   "metadata": {},
   "outputs": [],
   "source": [
    "def comprobacion_outliers(dataframe: pd.DataFrame, nombre_columna: str) -> dict:\n",
    "    '''\n",
    "    Esta función calcula el número de outliers y su proporción con respecto al total en una columna numérica de un DataFrame de Pandas.\n",
    "\n",
    "    Args:\n",
    "    - dataframe: DataFrame de Pandas que contiene los datos.\n",
    "    - nombre_columna: Nombre de la columna para la cual se desea detectar los outliers. Se deberá indicar en formato string.\n",
    "\n",
    "    Return:\n",
    "    - Diccionario con el número de outliers en la columna especificada y el porcentaje de outliers en relación al total de datos.\n",
    "    '''\n",
    "    try:\n",
    "        if not isinstance(nombre_columna, str):\n",
    "            raise TypeError(\"El nombre de la columna debe ser un string.\")\n",
    "            \n",
    "        df = dataframe[nombre_columna]\n",
    "        q1 = np.percentile(df, 25)\n",
    "        q3 = np.percentile(df, 75)\n",
    "        rango_intercuartilico = q3 - q1 \n",
    "        outliers = df[(df < (q1 - 1.5 * rango_intercuartilico)) | (df > (q3 + 1.5 * rango_intercuartilico))]\n",
    "        num_outliers = len(outliers)\n",
    "        porcentaje_outliers = round((num_outliers / len(df)) * 100, 2)\n",
    "        \n",
    "        result = {\n",
    "            \"numero_outliers\": num_outliers,\n",
    "            \"porcentaje_outliers\": porcentaje_outliers\n",
    "        }\n",
    "        \n",
    "        return result\n",
    "\n",
    "    except KeyError:\n",
    "        raise KeyError(\"Error: La columna especificada no existe en el DataFrame.\")\n",
    "    except TypeError as e:\n",
    "        raise TypeError(\"Error: \" + str(e))\n",
    "    except Exception as e:\n",
    "        raise Exception(\"Error: Se produjo un problema al procesar la función. Por favor, revisa la documentación de la función, verifica que los parámetros de entrada estén correctamente indicados y revisa los datos de tu DataFrame.\")"
   ]
  },
  {
   "cell_type": "code",
   "execution_count": 37,
   "metadata": {},
   "outputs": [
    {
     "data": {
      "text/plain": [
       "{'numero_outliers': 45, 'porcentaje_outliers': 5.86}"
      ]
     },
     "execution_count": 37,
     "metadata": {},
     "output_type": "execute_result"
    }
   ],
   "source": [
    "comprobacion_outliers(df,'pres')"
   ]
  },
  {
   "cell_type": "code",
   "execution_count": 38,
   "metadata": {},
   "outputs": [],
   "source": [
    "def eliminar_unidades_metricas(df:pd.DataFrame, columna:str):\n",
    "    \"\"\"\n",
    "    Elimina las unidades métricas de una columna de un DataFrame y la convierte a tipo float.\n",
    "\n",
    "    Args:\n",
    "        df (pandas.DataFrame): El DataFrame que contiene la columna con unidades métricas.\n",
    "        columna (str): El nombre de la columna a procesar.\n",
    "\n",
    "    Returns:\n",
    "        pandas.DataFrame: El DataFrame modificado con la unidad métrica eliminada y la columna convertida a tipo float.\n",
    "    \"\"\"\n",
    "    try:\n",
    "        valores = df[columna].astype(str)\n",
    "        valores_sin_unidades = valores.apply(lambda x: re.sub(r'[a-zA-Z]+', '', x))\n",
    "        valores_sin_unidades = valores_sin_unidades.str.strip()\n",
    "        df[columna] = valores_sin_unidades.astype(float)\n",
    "        return df\n",
    "    except Exception as e:\n",
    "        print(f\"Error: {str(e)}\")"
   ]
  },
  {
   "cell_type": "code",
   "execution_count": 39,
   "metadata": {},
   "outputs": [
    {
     "data": {
      "text/html": [
       "<div>\n",
       "<style scoped>\n",
       "    .dataframe tbody tr th:only-of-type {\n",
       "        vertical-align: middle;\n",
       "    }\n",
       "\n",
       "    .dataframe tbody tr th {\n",
       "        vertical-align: top;\n",
       "    }\n",
       "\n",
       "    .dataframe thead th {\n",
       "        text-align: right;\n",
       "    }\n",
       "</style>\n",
       "<table border=\"1\" class=\"dataframe\">\n",
       "  <thead>\n",
       "    <tr style=\"text-align: right;\">\n",
       "      <th></th>\n",
       "      <th>preg</th>\n",
       "      <th>plas</th>\n",
       "      <th>pres</th>\n",
       "      <th>skin</th>\n",
       "      <th>test</th>\n",
       "      <th>mass</th>\n",
       "      <th>pedi</th>\n",
       "      <th>age</th>\n",
       "      <th>class</th>\n",
       "    </tr>\n",
       "  </thead>\n",
       "  <tbody>\n",
       "    <tr>\n",
       "      <th>0</th>\n",
       "      <td>6</td>\n",
       "      <td>148</td>\n",
       "      <td>72</td>\n",
       "      <td>35</td>\n",
       "      <td>0</td>\n",
       "      <td>33.6</td>\n",
       "      <td>0.627</td>\n",
       "      <td>50</td>\n",
       "      <td>1</td>\n",
       "    </tr>\n",
       "    <tr>\n",
       "      <th>1</th>\n",
       "      <td>1</td>\n",
       "      <td>85</td>\n",
       "      <td>66</td>\n",
       "      <td>29</td>\n",
       "      <td>0</td>\n",
       "      <td>26.6</td>\n",
       "      <td>0.351</td>\n",
       "      <td>31</td>\n",
       "      <td>0</td>\n",
       "    </tr>\n",
       "    <tr>\n",
       "      <th>2</th>\n",
       "      <td>8</td>\n",
       "      <td>183</td>\n",
       "      <td>64</td>\n",
       "      <td>0</td>\n",
       "      <td>0</td>\n",
       "      <td>23.3</td>\n",
       "      <td>0.672</td>\n",
       "      <td>32</td>\n",
       "      <td>1</td>\n",
       "    </tr>\n",
       "    <tr>\n",
       "      <th>3</th>\n",
       "      <td>1</td>\n",
       "      <td>89</td>\n",
       "      <td>66</td>\n",
       "      <td>23</td>\n",
       "      <td>94</td>\n",
       "      <td>28.1</td>\n",
       "      <td>0.167</td>\n",
       "      <td>21</td>\n",
       "      <td>0</td>\n",
       "    </tr>\n",
       "    <tr>\n",
       "      <th>4</th>\n",
       "      <td>0</td>\n",
       "      <td>137</td>\n",
       "      <td>40</td>\n",
       "      <td>35</td>\n",
       "      <td>168</td>\n",
       "      <td>43.1</td>\n",
       "      <td>2.288</td>\n",
       "      <td>33</td>\n",
       "      <td>1</td>\n",
       "    </tr>\n",
       "    <tr>\n",
       "      <th>...</th>\n",
       "      <td>...</td>\n",
       "      <td>...</td>\n",
       "      <td>...</td>\n",
       "      <td>...</td>\n",
       "      <td>...</td>\n",
       "      <td>...</td>\n",
       "      <td>...</td>\n",
       "      <td>...</td>\n",
       "      <td>...</td>\n",
       "    </tr>\n",
       "    <tr>\n",
       "      <th>763</th>\n",
       "      <td>10</td>\n",
       "      <td>101</td>\n",
       "      <td>76</td>\n",
       "      <td>48</td>\n",
       "      <td>180</td>\n",
       "      <td>32.9</td>\n",
       "      <td>0.171</td>\n",
       "      <td>63</td>\n",
       "      <td>0</td>\n",
       "    </tr>\n",
       "    <tr>\n",
       "      <th>764</th>\n",
       "      <td>2</td>\n",
       "      <td>122</td>\n",
       "      <td>70</td>\n",
       "      <td>27</td>\n",
       "      <td>0</td>\n",
       "      <td>36.8</td>\n",
       "      <td>0.340</td>\n",
       "      <td>27</td>\n",
       "      <td>0</td>\n",
       "    </tr>\n",
       "    <tr>\n",
       "      <th>765</th>\n",
       "      <td>5</td>\n",
       "      <td>121</td>\n",
       "      <td>72</td>\n",
       "      <td>23</td>\n",
       "      <td>112</td>\n",
       "      <td>26.2</td>\n",
       "      <td>0.245</td>\n",
       "      <td>30</td>\n",
       "      <td>0</td>\n",
       "    </tr>\n",
       "    <tr>\n",
       "      <th>766</th>\n",
       "      <td>1</td>\n",
       "      <td>126</td>\n",
       "      <td>60</td>\n",
       "      <td>0</td>\n",
       "      <td>0</td>\n",
       "      <td>30.1</td>\n",
       "      <td>0.349</td>\n",
       "      <td>47</td>\n",
       "      <td>1</td>\n",
       "    </tr>\n",
       "    <tr>\n",
       "      <th>767</th>\n",
       "      <td>1</td>\n",
       "      <td>93</td>\n",
       "      <td>70</td>\n",
       "      <td>31</td>\n",
       "      <td>0</td>\n",
       "      <td>30.4</td>\n",
       "      <td>0.315</td>\n",
       "      <td>23</td>\n",
       "      <td>0</td>\n",
       "    </tr>\n",
       "  </tbody>\n",
       "</table>\n",
       "<p>768 rows × 9 columns</p>\n",
       "</div>"
      ],
      "text/plain": [
       "     preg  plas  pres  skin  test  mass   pedi  age  class\n",
       "0       6   148    72    35     0  33.6  0.627   50      1\n",
       "1       1    85    66    29     0  26.6  0.351   31      0\n",
       "2       8   183    64     0     0  23.3  0.672   32      1\n",
       "3       1    89    66    23    94  28.1  0.167   21      0\n",
       "4       0   137    40    35   168  43.1  2.288   33      1\n",
       "..    ...   ...   ...   ...   ...   ...    ...  ...    ...\n",
       "763    10   101    76    48   180  32.9  0.171   63      0\n",
       "764     2   122    70    27     0  36.8  0.340   27      0\n",
       "765     5   121    72    23   112  26.2  0.245   30      0\n",
       "766     1   126    60     0     0  30.1  0.349   47      1\n",
       "767     1    93    70    31     0  30.4  0.315   23      0\n",
       "\n",
       "[768 rows x 9 columns]"
      ]
     },
     "execution_count": 39,
     "metadata": {},
     "output_type": "execute_result"
    }
   ],
   "source": [
    "eliminar_unidades_metricas(df,'mass' )"
   ]
  },
  {
   "attachments": {},
   "cell_type": "markdown",
   "metadata": {},
   "source": [
    "### 4. Modeling"
   ]
  },
  {
   "cell_type": "code",
   "execution_count": 17,
   "metadata": {},
   "outputs": [],
   "source": [
    "def modelo_kmeans_df(data: pd.DataFrame, n:int):\n",
    "\n",
    "    \"\"\"\n",
    "    Función para hacer un modelo de Clustering para machine learning, devolviendo diferentes métricas en un dataframe.\n",
    "    Utiliza las columnas numericas del dataframe que se declare en los argumentos.\n",
    "    Además del return genera una gáfica con la media de las distancias de k en el eje Y, y el numero de K en el eje X.\n",
    "\n",
    "\n",
    "    Args:\n",
    "        data (str): El data frame que se quiere modelar.\n",
    "        n (int): Número máximo del rango de K que se quieren untilizar\n",
    "\n",
    "    Returns:\n",
    "        Un pandas.DataFrame con todas las métricas (silhouette_score, Average Distance y SSE (Sum of Squared Errors)) de evaluación del modelo.\n",
    "\n",
    "    \"\"\"\n",
    "    try:\n",
    "        rango = range(2, n)\n",
    "        X = data.select_dtypes(include=np.number)\n",
    "\n",
    "        k_values = []\n",
    "        average_distances = []\n",
    "        sse_values = []\n",
    "        silhouette_scores = []\n",
    "\n",
    "        for k in rango:\n",
    "            modelo = KMeans(n_clusters=k, random_state=42)\n",
    "            modelo.fit(X)\n",
    "\n",
    "            distances = np.min(modelo.transform(X), axis=1)\n",
    "            average_distance = np.mean(distances)\n",
    "            average_distances.append(average_distance)\n",
    "\n",
    "            sse = modelo.inertia_\n",
    "            sse_values.append(sse)\n",
    "\n",
    "            labels = modelo.labels_\n",
    "            silhouette = silhouette_score(X, labels)\n",
    "            silhouette_scores.append(silhouette)\n",
    "\n",
    "            k_values.append(k)\n",
    "\n",
    "        # Crear el DataFrame con las métricas\n",
    "        df_metrics = pd.DataFrame({\n",
    "            'K': k_values,\n",
    "            'Average Distance': average_distances,\n",
    "            'SSE': sse_values,\n",
    "            'Silhouette Score': silhouette_scores\n",
    "        })\n",
    "\n",
    "        # Graficar la distancia media en función de K\n",
    "        plt.plot(rango, average_distances, 'bo-')\n",
    "        plt.xlabel('K')\n",
    "        plt.ylabel('Average Distance')\n",
    "        plt.title('K-Means Average Distance')\n",
    "        plt.show()\n",
    "\n",
    "    except Exception as e:\n",
    "        error_message = \"Fallo: \" + str(e)\n",
    "        print(error_message)\n",
    "\n",
    "    return df_metrics"
   ]
  },
  {
   "cell_type": "code",
   "execution_count": 19,
   "metadata": {},
   "outputs": [
    {
     "data": {
      "image/png": "[encoded data removed]",
      "text/plain": [
       "<Figure size 640x480 with 1 Axes>"
      ]
     },
     "metadata": {},
     "output_type": "display_data"
    },
    {
     "data": {
      "text/html": [
       "<div>\n",
       "<style scoped>\n",
       "    .dataframe tbody tr th:only-of-type {\n",
       "        vertical-align: middle;\n",
       "    }\n",
       "\n",
       "    .dataframe tbody tr th {\n",
       "        vertical-align: top;\n",
       "    }\n",
       "\n",
       "    .dataframe thead th {\n",
       "        text-align: right;\n",
       "    }\n",
       "</style>\n",
       "<table border=\"1\" class=\"dataframe\">\n",
       "  <thead>\n",
       "    <tr style=\"text-align: right;\">\n",
       "      <th></th>\n",
       "      <th>K</th>\n",
       "      <th>Average Distance</th>\n",
       "      <th>SSE</th>\n",
       "      <th>Silhouette Score</th>\n",
       "    </tr>\n",
       "  </thead>\n",
       "  <tbody>\n",
       "    <tr>\n",
       "      <th>0</th>\n",
       "      <td>2</td>\n",
       "      <td>67.804293</td>\n",
       "      <td>5.142545e+06</td>\n",
       "      <td>0.568779</td>\n",
       "    </tr>\n",
       "    <tr>\n",
       "      <th>1</th>\n",
       "      <td>3</td>\n",
       "      <td>53.481902</td>\n",
       "      <td>2.913493e+06</td>\n",
       "      <td>0.510411</td>\n",
       "    </tr>\n",
       "    <tr>\n",
       "      <th>2</th>\n",
       "      <td>4</td>\n",
       "      <td>46.295276</td>\n",
       "      <td>2.150743e+06</td>\n",
       "      <td>0.427725</td>\n",
       "    </tr>\n",
       "    <tr>\n",
       "      <th>3</th>\n",
       "      <td>5</td>\n",
       "      <td>41.989773</td>\n",
       "      <td>1.737787e+06</td>\n",
       "      <td>0.396890</td>\n",
       "    </tr>\n",
       "    <tr>\n",
       "      <th>4</th>\n",
       "      <td>6</td>\n",
       "      <td>38.329162</td>\n",
       "      <td>1.467148e+06</td>\n",
       "      <td>0.329232</td>\n",
       "    </tr>\n",
       "    <tr>\n",
       "      <th>5</th>\n",
       "      <td>7</td>\n",
       "      <td>37.296986</td>\n",
       "      <td>1.301444e+06</td>\n",
       "      <td>0.333565</td>\n",
       "    </tr>\n",
       "    <tr>\n",
       "      <th>6</th>\n",
       "      <td>8</td>\n",
       "      <td>35.144541</td>\n",
       "      <td>1.147046e+06</td>\n",
       "      <td>0.350330</td>\n",
       "    </tr>\n",
       "    <tr>\n",
       "      <th>7</th>\n",
       "      <td>9</td>\n",
       "      <td>32.971853</td>\n",
       "      <td>1.002805e+06</td>\n",
       "      <td>0.339593</td>\n",
       "    </tr>\n",
       "    <tr>\n",
       "      <th>8</th>\n",
       "      <td>10</td>\n",
       "      <td>31.672183</td>\n",
       "      <td>9.315840e+05</td>\n",
       "      <td>0.289241</td>\n",
       "    </tr>\n",
       "    <tr>\n",
       "      <th>9</th>\n",
       "      <td>11</td>\n",
       "      <td>30.754780</td>\n",
       "      <td>8.747936e+05</td>\n",
       "      <td>0.265443</td>\n",
       "    </tr>\n",
       "    <tr>\n",
       "      <th>10</th>\n",
       "      <td>12</td>\n",
       "      <td>29.972412</td>\n",
       "      <td>8.164581e+05</td>\n",
       "      <td>0.274767</td>\n",
       "    </tr>\n",
       "    <tr>\n",
       "      <th>11</th>\n",
       "      <td>13</td>\n",
       "      <td>28.832657</td>\n",
       "      <td>7.681578e+05</td>\n",
       "      <td>0.275272</td>\n",
       "    </tr>\n",
       "    <tr>\n",
       "      <th>12</th>\n",
       "      <td>14</td>\n",
       "      <td>28.239978</td>\n",
       "      <td>7.311851e+05</td>\n",
       "      <td>0.271987</td>\n",
       "    </tr>\n",
       "  </tbody>\n",
       "</table>\n",
       "</div>"
      ],
      "text/plain": [
       "     K  Average Distance           SSE  Silhouette Score\n",
       "0    2         67.804293  5.142545e+06          0.568779\n",
       "1    3         53.481902  2.913493e+06          0.510411\n",
       "2    4         46.295276  2.150743e+06          0.427725\n",
       "3    5         41.989773  1.737787e+06          0.396890\n",
       "4    6         38.329162  1.467148e+06          0.329232\n",
       "5    7         37.296986  1.301444e+06          0.333565\n",
       "6    8         35.144541  1.147046e+06          0.350330\n",
       "7    9         32.971853  1.002805e+06          0.339593\n",
       "8   10         31.672183  9.315840e+05          0.289241\n",
       "9   11         30.754780  8.747936e+05          0.265443\n",
       "10  12         29.972412  8.164581e+05          0.274767\n",
       "11  13         28.832657  7.681578e+05          0.275272\n",
       "12  14         28.239978  7.311851e+05          0.271987"
      ]
     },
     "execution_count": 19,
     "metadata": {},
     "output_type": "execute_result"
    }
   ],
   "source": [
    "modelo_kmeans_df(df,15)"
   ]
  },
  {
   "cell_type": "code",
   "execution_count": 21,
   "metadata": {},
   "outputs": [],
   "source": [
    "def train_decision_tree(X_train, y_train, max_depth=None, min_samples_split=2):\n",
    "    \"\"\"\n",
    "    Función para entrenar decision tree.\n",
    "    \n",
    "    Args:\n",
    "        X_train (array-like): Matriz de características de entrenamiento.\n",
    "        y_train (array-like): Vector de etiquetas de entrenamiento.\n",
    "        max_depth (int or None, optional): La profundidad máxima del árbol. \n",
    "                                           Si es None, se expande hasta que todas las hojas sean puras o hasta que \n",
    "                                           todas las hojas contengan menos de min_samples_split muestras.\n",
    "        min_samples_split (int, optional): El número mínimo de muestras requeridas para dividir un nodo interno.\n",
    "    \n",
    "    Returns:\n",
    "        model: Modelo decision tree entrenado.\n",
    "    \"\"\"\n",
    "    try:\n",
    "        model_dt = DecisionTreeRegressor(max_depth=max_depth, min_samples_split=min_samples_split)\n",
    "        model_dt.fit(X_train, y_train)\n",
    "        \n",
    "        return model_dt\n",
    "    except Exception as e:\n",
    "        print(f\"Error en el entrenamiento: {e}\")\n",
    "        return None"
   ]
  },
  {
   "cell_type": "code",
   "execution_count": 22,
   "metadata": {},
   "outputs": [
    {
     "data": {
      "text/plain": [
       "DecisionTreeRegressor(max_depth=3)"
      ]
     },
     "execution_count": 22,
     "metadata": {},
     "output_type": "execute_result"
    }
   ],
   "source": [
    "train_decision_tree(X_train, y_train, max_depth=3, min_samples_split=2)"
   ]
  },
  {
   "cell_type": "code",
   "execution_count": 11,
   "metadata": {},
   "outputs": [],
   "source": [
    "def train_linear_regression(X_train, y_train, fit_intercept=True, scale_features=True):\n",
    "    \"\"\"\n",
    "    Función para entrenar linear regression.\n",
    "    \n",
    "    Args:\n",
    "        X_train (array-like): Matriz de características de entrenamiento.\n",
    "        y_train (array-like): Vector de etiquetas de entrenamiento.\n",
    "        fit_intercept (bool, optional): Indica si se ajusta el término de intercepción. \n",
    "                                        Por defecto, es True.\n",
    "        scale_features (bool, optional): Indica si se escala la matriz de características. \n",
    "                                         Por defecto, es True.\n",
    "    \n",
    "    Returns:\n",
    "        model_lr: Modelo linear regression entrenado.\n",
    "    \"\"\"\n",
    "    try:\n",
    "        if scale_features:\n",
    "            scaler = StandardScaler()\n",
    "            X_train = scaler.fit_transform(X_train)\n",
    "        \n",
    "        model_lr = LinearRegression(fit_intercept=fit_intercept)\n",
    "        model_lr.fit(X_train, y_train)\n",
    "        \n",
    "        return model_lr\n",
    "    except Exception as e:\n",
    "        print(f\"Error en el entrenamiento: {e}\")\n",
    "        return None\n"
   ]
  },
  {
   "cell_type": "code",
   "execution_count": 12,
   "metadata": {},
   "outputs": [
    {
     "data": {
      "text/plain": [
       "LinearRegression()"
      ]
     },
     "execution_count": 12,
     "metadata": {},
     "output_type": "execute_result"
    }
   ],
   "source": [
    "train_linear_regression(X_train, y_train, fit_intercept=True, scale_features=True)"
   ]
  },
  {
   "attachments": {},
   "cell_type": "markdown",
   "metadata": {},
   "source": [
    "### 5. Visualization"
   ]
  },
  {
   "cell_type": "code",
   "execution_count": 17,
   "metadata": {},
   "outputs": [],
   "source": [
    "def plot_scatter_with_reference(y_test: np.array, predictions: np.array, title: str) -> None:\n",
    "    \"\"\"\n",
    "    Genera un gráfico de dispersión con una línea de referencia para comparar los valores de prueba con los valores predichos.\n",
    "\n",
    "    Args:\n",
    "        y_test (array-like): Valores de prueba.\n",
    "        predictions (array-like): Valores predichos.\n",
    "        title (str): Título del gráfico.\n",
    "\n",
    "    Returns:\n",
    "        None\n",
    "    \"\"\"\n",
    "    try:\n",
    "        sns.set(style=\"darkgrid\")\n",
    "        plt.scatter(y_test, predictions, color='blue', label='Valores de prueba vs. Valores predichos')\n",
    "        plt.plot([min(y_test), max(y_test)], [min(y_test), max(y_test)], 'r--')  # Línea de referencia: valores reales = valores predichos\n",
    "        plt.scatter(y_test, y_test, color='red', label='Valores de prueba')\n",
    "        plt.xlabel('Valores de prueba')\n",
    "        plt.ylabel('Valores predichos')\n",
    "        plt.title(title)\n",
    "        plt.legend()\n",
    "        plt.show()\n",
    "    except Exception as e:\n",
    "        print(\"Ocurrió un error al generar el gráfico de dispersión:\", str(e))\n",
    "    finally:\n",
    "        return None"
   ]
  },
  {
   "cell_type": "code",
   "execution_count": 18,
   "metadata": {},
   "outputs": [
    {
     "data": {
      "image/png": "[encoded data removed]",
      "text/plain": [
       "<Figure size 640x480 with 1 Axes>"
      ]
     },
     "metadata": {},
     "output_type": "display_data"
    }
   ],
   "source": [
    "plot_scatter_with_reference(y_test, predictions, 'demo')"
   ]
  },
  {
   "cell_type": "code",
   "execution_count": 19,
   "metadata": {},
   "outputs": [],
   "source": [
    "def plot_data(dataframe: pd.DataFrame, x: str, y: str, plot_type: str) -> None:\n",
    "    \"\"\"Visualiza diferentes tipos de gráficos a partir de un DataFrame.\n",
    "    \n",
    "    Args:\n",
    "        dataframe (pd.DataFrame): El DataFrame que contiene los datos.\n",
    "        x (str): La columna del DataFrame para el eje x.\n",
    "        y (str): La columna del DataFrame para el eje y.\n",
    "        plot_type (str): El tipo de gráfico a crear ('violin', 'scatter', 'bar', etc.).\n",
    "    \"\"\"\n",
    "    try:\n",
    "        if plot_type == 'violin':\n",
    "            # Violin plot\n",
    "            sns.violinplot(x=x, y=y, data=dataframe)\n",
    "            plt.xlabel(x)\n",
    "            plt.ylabel(y)\n",
    "            plt.title('Violin Plot')\n",
    "        \n",
    "        elif plot_type == 'scatter':\n",
    "            # Scatter plot\n",
    "            plt.scatter(dataframe[x], dataframe[y])\n",
    "            plt.xlabel(x)\n",
    "            plt.ylabel(y)\n",
    "            plt.title('Scatter Plot')\n",
    "        \n",
    "        elif plot_type == 'bar':\n",
    "            # Bar plot\n",
    "            sns.barplot(x=x, y=y, data=dataframe)\n",
    "            plt.xlabel(x)\n",
    "            plt.ylabel(y)\n",
    "            plt.title('Bar Plot')\n",
    "        \n",
    "        # Agregar más tipos de gráficos según sea necesario\n",
    "        \n",
    "        plt.show()\n",
    "    except Exception as e:\n",
    "        print(f\"Ocurrió un error: {str(e)}\")"
   ]
  },
  {
   "cell_type": "code",
   "execution_count": 21,
   "metadata": {},
   "outputs": [
    {
     "data": {
      "text/plain": [
       "Index(['preg', 'plas', 'pres', 'skin', 'test', 'mass', 'pedi', 'age', 'class'], dtype='object')"
      ]
     },
     "execution_count": 21,
     "metadata": {},
     "output_type": "execute_result"
    }
   ],
   "source": [
    "df.columns\n"
   ]
  },
  {
   "cell_type": "code",
   "execution_count": 22,
   "metadata": {},
   "outputs": [
    {
     "data": {
      "image/png": "[encoded data removed]",
      "text/plain": [
       "<Figure size 640x480 with 1 Axes>"
      ]
     },
     "metadata": {},
     "output_type": "display_data"
    }
   ],
   "source": [
    "plot_data(df, 'age', 'class', 'violin')"
   ]
  }
 ],
 "metadata": {
  "kernelspec": {
   "display_name": "Python 3.7.4 64-bit",
   "language": "python",
   "name": "python3"
  },
  "language_info": {
   "codemirror_mode": {
    "name": "ipython",
    "version": 3
   },
   "file_extension": ".py",
   "mimetype": "text/x-python",
   "name": "python",
   "nbconvert_exporter": "python",
   "pygments_lexer": "ipython3",
   "version": "3.7.4"
  },
  "vscode": {
   "interpreter": {
    "hash": "90139cb9a825bf3d63f6f6704e828dbd1ff7edbd4d0c6e906a71235d6efc74af"
   }
  }
 },
 "nbformat": 4,
 "nbformat_minor": 4
}
